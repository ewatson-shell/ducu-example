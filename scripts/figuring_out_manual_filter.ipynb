{
 "cells": [
  {
   "cell_type": "code",
   "execution_count": 29,
   "metadata": {},
   "outputs": [],
   "source": [
    "import pandas as pd\n",
    "import datetime as dt"
   ]
  },
  {
   "cell_type": "code",
   "execution_count": 30,
   "metadata": {},
   "outputs": [],
   "source": [
    "csv_folder = \"C:\\\\Users\\\\Eleanor.E.Watson\\\\OneDrive - Shell\\\\Examples\\\\Ducu-git\\\\data\\\\raw_to_csv\"\n"
   ]
  },
  {
   "cell_type": "code",
   "execution_count": 31,
   "metadata": {},
   "outputs": [
    {
     "name": "stderr",
     "output_type": "stream",
     "text": [
      "C:\\Users\\Eleanor.E.Watson\\AppData\\Local\\Temp\\ipykernel_2532\\2305725237.py:1: DtypeWarning: Columns (7,20,29,33,37) have mixed types. Specify dtype option on import or set low_memory=False.\n",
      "  df_manual =  pd.read_csv(f\"{csv_folder}\\\\29-gminj-023DIA3.csv\")\n"
     ]
    },
    {
     "name": "stdout",
     "output_type": "stream",
     "text": [
      "216540\n",
      "216540\n",
      "0          [0, 00, 11]\n",
      "1          [0, 00, 12]\n",
      "2          [0, 00, 13]\n",
      "3          [0, 00, 14]\n",
      "4          [0, 00, 15]\n",
      "              ...     \n",
      "216535    [60, 09, 12]\n",
      "216536    [60, 09, 13]\n",
      "216537    [60, 09, 14]\n",
      "216538    [60, 09, 15]\n",
      "216539    [60, 09, 16]\n",
      "Name: time_list, Length: 216540, dtype: object\n",
      "0             11.0\n",
      "1             12.0\n",
      "2             13.0\n",
      "3             14.0\n",
      "4             15.0\n",
      "            ...   \n",
      "216535    216552.0\n",
      "216536    216553.0\n",
      "216537    216554.0\n",
      "216538    216555.0\n",
      "216539    216556.0\n",
      "Name: seconds, Length: 216540, dtype: float64\n"
     ]
    }
   ],
   "source": [
    "df_manual =  pd.read_csv(f\"{csv_folder}\\\\29-gminj-023DIA3.csv\") \n",
    "col = df_manual['Fuel Flow kg/hr FLOWFUEL']\n",
    "#df_manual['BSFC']\n",
    "response = f\"{col}_filtered\"\n",
    "df_manual['Filter_bool'] = df_manual['Engine speed RPM SPEED'].apply(lambda x: isinstance(x, float))\n",
    "print(len(df_manual))\n",
    "filter_df = df_manual[df_manual['Filter_bool']]\n",
    "print(len(filter_df))\n",
    "filter_df['time_list'] = filter_df['RUNTIMED'].apply(lambda x : x.strip(\" \").split('.')[0].split(\":\"))\n",
    "print(filter_df['time_list'])\n",
    "filter_df['seconds'] = filter_df['time_list'].apply(lambda x : dt.timedelta(hours=int(x[0]), minutes=int(x[1]), seconds=int(x[2])).total_seconds())\n",
    "print(filter_df['seconds'])\n",
    "filter_df['seconds_index'] = filter_df['seconds']"
   ]
  },
  {
   "cell_type": "code",
   "execution_count": 32,
   "metadata": {},
   "outputs": [
    {
     "data": {
      "text/plain": [
       "0             11.0\n",
       "1             12.0\n",
       "2             13.0\n",
       "3             14.0\n",
       "4             15.0\n",
       "            ...   \n",
       "216535    216552.0\n",
       "216536    216553.0\n",
       "216537    216554.0\n",
       "216538    216555.0\n",
       "216539    216556.0\n",
       "Name: seconds, Length: 216540, dtype: float64"
      ]
     },
     "execution_count": 32,
     "metadata": {},
     "output_type": "execute_result"
    }
   ],
   "source": [
    "filter_df['seconds']"
   ]
  },
  {
   "cell_type": "code",
   "execution_count": 33,
   "metadata": {},
   "outputs": [
    {
     "name": "stdout",
     "output_type": "stream",
     "text": [
      "len before:216540\n"
     ]
    }
   ],
   "source": [
    "\n",
    "print(f\"len before:{len(filter_df['seconds'])}\")\n",
    "\n"
   ]
  },
  {
   "cell_type": "code",
   "execution_count": 41,
   "metadata": {},
   "outputs": [
    {
     "name": "stdout",
     "output_type": "stream",
     "text": [
      "len after: 210239\n"
     ]
    }
   ],
   "source": [
    "x_all=set(filter_df['seconds'].astype(float).values)\n",
    "\n",
    "#x_all=filter_df['seconds'].astype(float).loc[int(3600):int(21600)].values\n",
    "x_remove=set(filter_df['seconds'].astype(float).loc[int(4500):int(10800)].values)\n",
    "x_puzze = filter_df['seconds'].astype(float).loc[int(4500):int(10800)].values\n",
    "x = x_all - x_remove\n",
    "#filter_df['seconds'] = filter_df['seconds'].apply(lambda x : x.notin(4500,))\n",
    "\n",
    "print(f\"len after: {len(x)}\")\n",
    "#y=filter_df[col].astype(float).loc[x].values"
   ]
  },
  {
   "cell_type": "code",
   "execution_count": 19,
   "metadata": {},
   "outputs": [
    {
     "name": "stdout",
     "output_type": "stream",
     "text": [
      "len after:216540\n",
      "len processed:18001\n"
     ]
    }
   ],
   "source": [
    "print(f\"len after:{len(filter_df['seconds'])}\")\n",
    "\n",
    "x=filter_df['seconds'].astype(float).loc[int(3600):int(21600)].values\n",
    "print(f\"len processed:{len(x)}\")"
   ]
  },
  {
   "cell_type": "code",
   "execution_count": 20,
   "metadata": {},
   "outputs": [
    {
     "ename": "KeyError",
     "evalue": "\"None of [Index(['0.73', '0.37', '0.36', '0.36', '0.13', '0.11',  '3.6', '4.79', '6.14',\\n       '7.56',\\n       ...\\n         5.76,   5.76,   5.78,   5.75,   5.76,   5.77,   5.76,   5.76,   5.76,\\n         5.76],\\n      dtype='object', length=216540)] are in the [columns]\"",
     "output_type": "error",
     "traceback": [
      "\u001b[1;31m---------------------------------------------------------------------------\u001b[0m",
      "\u001b[1;31mKeyError\u001b[0m                                  Traceback (most recent call last)",
      "\u001b[1;32mc:\\Users\\Eleanor.E.Watson\\OneDrive - Shell\\Examples\\Ducu-git\\ducu-example\\scripts\\figuring_out_manual_filter.ipynb Cell 8\u001b[0m in \u001b[0;36m<cell line: 1>\u001b[1;34m()\u001b[0m\n\u001b[1;32m----> <a href='vscode-notebook-cell:/c%3A/Users/Eleanor.E.Watson/OneDrive%20-%20Shell/Examples/Ducu-git/ducu-example/scripts/figuring_out_manual_filter.ipynb#W6sZmlsZQ%3D%3D?line=0'>1</a>\u001b[0m y\u001b[39m=\u001b[39mfilter_df[col]\u001b[39m.\u001b[39mvalues\u001b[39m.\u001b[39mastype(\u001b[39mfloat\u001b[39m)\n\u001b[0;32m      <a href='vscode-notebook-cell:/c%3A/Users/Eleanor.E.Watson/OneDrive%20-%20Shell/Examples/Ducu-git/ducu-example/scripts/figuring_out_manual_filter.ipynb#W6sZmlsZQ%3D%3D?line=1'>2</a>\u001b[0m x\u001b[39m=\u001b[39mfilter_df[\u001b[39m'\u001b[39m\u001b[39mseconds\u001b[39m\u001b[39m'\u001b[39m]\u001b[39m.\u001b[39mastype(\u001b[39mfloat\u001b[39m)\u001b[39m.\u001b[39mloc[\u001b[39mint\u001b[39m(\u001b[39m3600\u001b[39m):\u001b[39mint\u001b[39m(\u001b[39m21600\u001b[39m)]\u001b[39m.\u001b[39mvalues\n",
      "File \u001b[1;32mc:\\Users\\Eleanor.E.Watson\\Anaconda3\\lib\\site-packages\\pandas\\core\\frame.py:3511\u001b[0m, in \u001b[0;36mDataFrame.__getitem__\u001b[1;34m(self, key)\u001b[0m\n\u001b[0;32m   3509\u001b[0m     \u001b[39mif\u001b[39;00m is_iterator(key):\n\u001b[0;32m   3510\u001b[0m         key \u001b[39m=\u001b[39m \u001b[39mlist\u001b[39m(key)\n\u001b[1;32m-> 3511\u001b[0m     indexer \u001b[39m=\u001b[39m \u001b[39mself\u001b[39;49m\u001b[39m.\u001b[39;49mcolumns\u001b[39m.\u001b[39;49m_get_indexer_strict(key, \u001b[39m\"\u001b[39;49m\u001b[39mcolumns\u001b[39;49m\u001b[39m\"\u001b[39;49m)[\u001b[39m1\u001b[39m]\n\u001b[0;32m   3513\u001b[0m \u001b[39m# take() does not accept boolean indexers\u001b[39;00m\n\u001b[0;32m   3514\u001b[0m \u001b[39mif\u001b[39;00m \u001b[39mgetattr\u001b[39m(indexer, \u001b[39m\"\u001b[39m\u001b[39mdtype\u001b[39m\u001b[39m\"\u001b[39m, \u001b[39mNone\u001b[39;00m) \u001b[39m==\u001b[39m \u001b[39mbool\u001b[39m:\n",
      "File \u001b[1;32mc:\\Users\\Eleanor.E.Watson\\Anaconda3\\lib\\site-packages\\pandas\\core\\indexes\\base.py:5782\u001b[0m, in \u001b[0;36mIndex._get_indexer_strict\u001b[1;34m(self, key, axis_name)\u001b[0m\n\u001b[0;32m   5779\u001b[0m \u001b[39melse\u001b[39;00m:\n\u001b[0;32m   5780\u001b[0m     keyarr, indexer, new_indexer \u001b[39m=\u001b[39m \u001b[39mself\u001b[39m\u001b[39m.\u001b[39m_reindex_non_unique(keyarr)\n\u001b[1;32m-> 5782\u001b[0m \u001b[39mself\u001b[39;49m\u001b[39m.\u001b[39;49m_raise_if_missing(keyarr, indexer, axis_name)\n\u001b[0;32m   5784\u001b[0m keyarr \u001b[39m=\u001b[39m \u001b[39mself\u001b[39m\u001b[39m.\u001b[39mtake(indexer)\n\u001b[0;32m   5785\u001b[0m \u001b[39mif\u001b[39;00m \u001b[39misinstance\u001b[39m(key, Index):\n\u001b[0;32m   5786\u001b[0m     \u001b[39m# GH 42790 - Preserve name from an Index\u001b[39;00m\n",
      "File \u001b[1;32mc:\\Users\\Eleanor.E.Watson\\Anaconda3\\lib\\site-packages\\pandas\\core\\indexes\\base.py:5842\u001b[0m, in \u001b[0;36mIndex._raise_if_missing\u001b[1;34m(self, key, indexer, axis_name)\u001b[0m\n\u001b[0;32m   5840\u001b[0m     \u001b[39mif\u001b[39;00m use_interval_msg:\n\u001b[0;32m   5841\u001b[0m         key \u001b[39m=\u001b[39m \u001b[39mlist\u001b[39m(key)\n\u001b[1;32m-> 5842\u001b[0m     \u001b[39mraise\u001b[39;00m \u001b[39mKeyError\u001b[39;00m(\u001b[39mf\u001b[39m\u001b[39m\"\u001b[39m\u001b[39mNone of [\u001b[39m\u001b[39m{\u001b[39;00mkey\u001b[39m}\u001b[39;00m\u001b[39m] are in the [\u001b[39m\u001b[39m{\u001b[39;00maxis_name\u001b[39m}\u001b[39;00m\u001b[39m]\u001b[39m\u001b[39m\"\u001b[39m)\n\u001b[0;32m   5844\u001b[0m not_found \u001b[39m=\u001b[39m \u001b[39mlist\u001b[39m(ensure_index(key)[missing_mask\u001b[39m.\u001b[39mnonzero()[\u001b[39m0\u001b[39m]]\u001b[39m.\u001b[39munique())\n\u001b[0;32m   5845\u001b[0m \u001b[39mraise\u001b[39;00m \u001b[39mKeyError\u001b[39;00m(\u001b[39mf\u001b[39m\u001b[39m\"\u001b[39m\u001b[39m{\u001b[39;00mnot_found\u001b[39m}\u001b[39;00m\u001b[39m not in index\u001b[39m\u001b[39m\"\u001b[39m)\n",
      "\u001b[1;31mKeyError\u001b[0m: \"None of [Index(['0.73', '0.37', '0.36', '0.36', '0.13', '0.11',  '3.6', '4.79', '6.14',\\n       '7.56',\\n       ...\\n         5.76,   5.76,   5.78,   5.75,   5.76,   5.77,   5.76,   5.76,   5.76,\\n         5.76],\\n      dtype='object', length=216540)] are in the [columns]\""
     ]
    }
   ],
   "source": [
    "y=filter_df[col].values.astype(float)\n",
    "x=filter_df['seconds'].astype(float).loc[int(3600):int(21600)].values"
   ]
  },
  {
   "cell_type": "code",
   "execution_count": null,
   "metadata": {},
   "outputs": [],
   "source": []
  }
 ],
 "metadata": {
  "kernelspec": {
   "display_name": "Python 3.9.12",
   "language": "python",
   "name": "python3"
  },
  "language_info": {
   "codemirror_mode": {
    "name": "ipython",
    "version": 3
   },
   "file_extension": ".py",
   "mimetype": "text/x-python",
   "name": "python",
   "nbconvert_exporter": "python",
   "pygments_lexer": "ipython3",
   "version": "3.9.12"
  },
  "orig_nbformat": 4,
  "vscode": {
   "interpreter": {
    "hash": "ede396baa91557b930df4c814ac4adebda606838f7f3fcfd9466a7dbebdb2276"
   }
  }
 },
 "nbformat": 4,
 "nbformat_minor": 2
}
